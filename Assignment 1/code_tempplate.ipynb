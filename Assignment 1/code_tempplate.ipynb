{
 "cells": [
  {
   "cell_type": "markdown",
   "metadata": {},
   "source": [
    "## Problem 1 (5 points)\n",
    "Write a function that, when passed a list and a target sum, returns, efficiently with respect to time used, two distinct zero-based indices of any two of the numbers, whose sum is equal to the target sum. If there are no two numbers, the function should return None.\n",
    "\n",
    "For example, find_two_sum([3, 1, 5, 7, 5, 9], 10) should return a list of three tuple containing all of the following pairs of indices:\n",
    "\n",
    "- 0 and 3 (or 3 and 0) as 3 + 7 = 10\n",
    "- 1 and 5 (or 5 and 1) as 1 + 9 = 10\n",
    "- 2 and 4 (or 4 and 2) as 5 + 5 = 10\n",
    "\n",
    "So retured value should be [(0,3), (1,5), (2,4)]"
   ]
  },
  {
   "cell_type": "code",
   "execution_count": null,
   "metadata": {},
   "outputs": [],
   "source": [
    "def find_two_sum(numbers, target_sum):\n",
    "    \"\"\"\n",
    "    :param numbers: (list of ints) The list of numbers.\n",
    "    :param target_sum: (int) The required target sum.\n",
    "    :returns: (a list of tuples of 2 ints) The indices of the two elements whose sum is equal to target_sum\n",
    "    \"\"\"\n",
    "    \n",
    "    '''Write your code here'''\n",
    "    \n",
    "    return None\n",
    "\n",
    "print(find_two_sum([3, 1, 5, 7, 5, 9], 10))"
   ]
  },
  {
   "cell_type": "markdown",
   "metadata": {},
   "source": [
    "## Problem 2 (5 points)\n",
    "Implement a group_by_owners function that:\n",
    "\n",
    "Accepts a dictionary containing the file owner name for each file name. Returns a dictionary containing a list of file names for each owner name, in any order.\n",
    "\n",
    "For example, for dictionary {'Input.txt': 'Randy', 'Code.py': 'Stan', 'Output.txt': 'Randy'} the group_by_owners function should return {'Randy': ['Input.txt', 'Output.txt'], 'Stan': ['Code.py']}."
   ]
  },
  {
   "cell_type": "code",
   "execution_count": null,
   "metadata": {},
   "outputs": [],
   "source": [
    "def group_by_owners(files):\n",
    "    \n",
    "    '''Write your code here'''\n",
    "    \n",
    "    return None\n",
    "\n",
    "  \n",
    "files = {'Input.txt': 'Randy',\n",
    "        'Code.py': 'Stan',\n",
    "        'Output.txt': 'Randy'}  \n",
    "\n",
    "print(group_by_owners(files))"
   ]
  },
  {
   "cell_type": "markdown",
   "metadata": {},
   "source": [
    "## Problem 3 (5 points)\n",
    "As a part of the route planner, the route_exists method is used as a quick filter if the destination is reachable, before using more computationally intensive procedures for finding the optimal route.\n",
    "\n",
    "The roads on the map are rasterized and produce a matrix of boolean values - True if the road is present or False if it is not. The roads in the matrix are connected only if the road is immediately left, right, below or above it.\n",
    "\n",
    "Finish the route_exists method so that it returns True if the destination is reachable or False if it is not. The from_row and from_column parameters are the starting row and column in the map_matrix. The to_row and to_column are the destination row and column in the map_matrix. The map_matrix parameter is the above mentioned matrix produced from the map.\n",
    "\n",
    "For example, the following code should return True since destination is reachable:\n",
    "![download_image](grid.png)"
   ]
  },
  {
   "cell_type": "code",
   "execution_count": null,
   "metadata": {},
   "outputs": [],
   "source": [
    "def route_exists(from_row, from_column, to_row, to_column, map_matrix):\n",
    "    \n",
    "    '''Write your code here'''\n",
    "    \n",
    "    pass\n",
    "\n",
    "map_matrix = [\n",
    "    [True, False, False],\n",
    "    [True, True, False],\n",
    "    [False, True, True]];\n",
    "\n",
    "print(route_exists(0, 0, 2, 2, map_matrix))"
   ]
  },
  {
   "cell_type": "markdown",
   "metadata": {},
   "source": [
    "## Problem 4 (5 points)\n",
    "A _TrainComposition_ is built by attaching and detaching wagons from the left and the right sides, efficiently with respect to time used.\n",
    "\n",
    "For example, if we start by attaching wagon 7 from the left followed by attaching wagon 13, again from the left, we get a composition of two wagons (13 and 7 from left to right). Now the first wagon that can be detached from the right is 7 and the first that can be detached from the left is 13.\n",
    "\n",
    "Implement a TrainComposition that models this problem.\n",
    "![download_image](train.png)"
   ]
  },
  {
   "cell_type": "code",
   "execution_count": null,
   "metadata": {},
   "outputs": [],
   "source": [
    "class TrainComposition:\n",
    "    \n",
    "    def __init__(self):\n",
    "        '''Write your code here'''\n",
    "        pass\n",
    "    \n",
    "    def attach_wagon_from_left(self, wagonId):\n",
    "        '''Write your code here'''\n",
    "        pass\n",
    "    \n",
    "    def attach_wagon_from_right(self, wagonId):\n",
    "        '''Write your code here'''\n",
    "        pass\n",
    "\n",
    "    def detach_wagon_from_left(self):\n",
    "        '''Write your code here'''\n",
    "        pass\n",
    "    \n",
    "    def detach_wagon_from_right(self):\n",
    "        '''Write your code here'''\n",
    "        pass\n",
    "\n",
    "\n",
    "    \n",
    "train = TrainComposition()\n",
    "train.attach_wagon_from_left(7)\n",
    "train.attach_wagon_from_left(1)\n",
    "train.attach_wagon_from_left(4)\n",
    "train.attach_wagon_from_left(13)\n",
    "print(train.detach_wagon_from_right()) # should print 7\n",
    "print(train.detach_wagon_from_left()) # should print 13"
   ]
  }
 ],
 "metadata": {
  "kernelspec": {
   "display_name": "Python 3",
   "language": "python",
   "name": "python3"
  },
  "language_info": {
   "codemirror_mode": {
    "name": "ipython",
    "version": 3
   },
   "file_extension": ".py",
   "mimetype": "text/x-python",
   "name": "python",
   "nbconvert_exporter": "python",
   "pygments_lexer": "ipython3",
   "version": "3.7.9"
  }
 },
 "nbformat": 4,
 "nbformat_minor": 4
}
