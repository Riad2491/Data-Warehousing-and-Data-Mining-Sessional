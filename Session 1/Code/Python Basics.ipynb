{
 "cells": [
  {
   "cell_type": "markdown",
   "metadata": {},
   "source": [
    "# Python Basics"
   ]
  },
  {
   "cell_type": "markdown",
   "metadata": {},
   "source": [
    "## A code Sample"
   ]
  },
  {
   "cell_type": "code",
   "execution_count": 13,
   "metadata": {},
   "outputs": [
    {
     "name": "stdout",
     "output_type": "stream",
     "text": [
      "11 Hello 3.45\n"
     ]
    }
   ],
   "source": [
    "x = 34 - 23 # A comment.\n",
    "y = 'Hello' # Another one.\n",
    "z = 3.45\n",
    "print(x,y,z)"
   ]
  },
  {
   "cell_type": "code",
   "execution_count": 14,
   "metadata": {},
   "outputs": [
    {
     "name": "stdout",
     "output_type": "stream",
     "text": [
      "12\n",
      "Hello World!\n"
     ]
    }
   ],
   "source": [
    "if z == 3.45 or y == 'Hello':\n",
    "    x = x + 1\n",
    "    y = y + ' World!' # String concat.\n",
    "print(x)\n",
    "print(y)"
   ]
  },
  {
   "cell_type": "markdown",
   "metadata": {},
   "source": [
    "## Formatted Print"
   ]
  },
  {
   "cell_type": "code",
   "execution_count": 29,
   "metadata": {},
   "outputs": [
    {
     "name": "stdout",
     "output_type": "stream",
     "text": [
      "Formatted number        120 and formatted floating number     25.125\n",
      "Formatted number        031\n",
      "Formatted number  2.512E+01\n"
     ]
    }
   ],
   "source": [
    "print('Formatted number % 10d and formatted floating number %10.3f'%(120,25.12456))\n",
    "print('Formatted number % 10.3o'%(25))\n",
    "print('Formatted number % 10.3E'%(25.12456))"
   ]
  },
  {
   "cell_type": "code",
   "execution_count": 38,
   "metadata": {},
   "outputs": [
    {
     "name": "stdout",
     "output_type": "stream",
     "text": [
      "I love Python for \"Programming!\"\n",
      "I love Programming using \"Python!\"\n",
      "Second argument:         11, first one:      47.42\n"
     ]
    }
   ],
   "source": [
    "print('I love {} for \"{}!\"'.format('Python', 'Programming')) \n",
    "print('I love {1} using \"{0}!\"'.format('Python', 'Programming')) "
   ]
  },
  {
   "cell_type": "code",
   "execution_count": 41,
   "metadata": {},
   "outputs": [
    {
     "name": "stdout",
     "output_type": "stream",
     "text": [
      "First argument:      47.42, Second one:         11\n",
      "Second argument:         11, first one:      47.42\n"
     ]
    }
   ],
   "source": [
    "print(\"First argument: {:10.2f}, Second one: {:10d}\". format(47.42, 11)) \n",
    "print(\"Second argument: {1:10d}, first one: {0:10.2f}\". format(47.42, 11)) "
   ]
  },
  {
   "cell_type": "code",
   "execution_count": 48,
   "metadata": {},
   "outputs": [
    {
     "data": {
      "text/plain": [
       "\"Pyth'ons\""
      ]
     },
     "execution_count": 48,
     "metadata": {},
     "output_type": "execute_result"
    }
   ],
   "source": [
    "str = \"Pyth'ons\"\n",
    "str"
   ]
  },
  {
   "cell_type": "markdown",
   "metadata": {},
   "source": [
    "##  Whitespace\n",
    "- No {} used for creating block in python \n",
    "- Rather use intendation ( use ctrl + ] and ctrl + [ )\n",
    "- Use \\ when must go to next line prematurely"
   ]
  },
  {
   "cell_type": "code",
   "execution_count": 50,
   "metadata": {},
   "outputs": [
    {
     "name": "stdout",
     "output_type": "stream",
     "text": [
      "13\n"
     ]
    }
   ],
   "source": [
    "if z == 3.45 or \\\n",
    "y == 'Hello':\n",
    "    x = x + 1\n",
    "print(x)\n"
   ]
  },
  {
   "cell_type": "markdown",
   "metadata": {},
   "source": [
    "## Multiple Assignment "
   ]
  },
  {
   "cell_type": "code",
   "execution_count": 53,
   "metadata": {},
   "outputs": [
    {
     "name": "stdout",
     "output_type": "stream",
     "text": [
      "2\n",
      "3\n"
     ]
    }
   ],
   "source": [
    "x,y = 2,3\n",
    "print(x)\n",
    "print(y)"
   ]
  },
  {
   "cell_type": "code",
   "execution_count": 85,
   "metadata": {},
   "outputs": [
    {
     "name": "stdout",
     "output_type": "stream",
     "text": [
      "3 2\n"
     ]
    }
   ],
   "source": [
    "x,y = 2,3\n",
    "x,y = y,x\n",
    "print(x,y)"
   ]
  },
  {
   "cell_type": "markdown",
   "metadata": {},
   "source": [
    "## Understanding Reference\n"
   ]
  },
  {
   "cell_type": "code",
   "execution_count": 57,
   "metadata": {},
   "outputs": [
    {
     "name": "stdout",
     "output_type": "stream",
     "text": [
      "3\n"
     ]
    }
   ],
   "source": [
    "x = 3\n",
    "y = x\n",
    "y = 4\n",
    "print(x)"
   ]
  },
  {
   "cell_type": "code",
   "execution_count": 60,
   "metadata": {},
   "outputs": [
    {
     "name": "stdout",
     "output_type": "stream",
     "text": [
      "[1, 2, 3, 4]\n"
     ]
    }
   ],
   "source": [
    "x = [1,2,3]\n",
    "y=x\n",
    "y.append(4)\n",
    "print(x)"
   ]
  },
  {
   "cell_type": "markdown",
   "metadata": {},
   "source": [
    "# Sequence Types\n",
    "- Tuple\n",
    "- Strings\n",
    "- List"
   ]
  },
  {
   "cell_type": "code",
   "execution_count": 64,
   "metadata": {},
   "outputs": [],
   "source": [
    "# Tuples are defined using parentheses (and commas).\n",
    "tu = (23, 'abc', 4.56, (2,3), 'def')\n",
    "\n",
    "# Lists are defined using square brackets (and commas).\n",
    "li = [\"abc\", 34, 4.34, 23]\n",
    "\n",
    "# Strings are defined using quotes (“, ‘, or “““).\n",
    "st1 = \"Hello World\"\n",
    "st2 = 'Hello World'\n",
    "st3 = \"\"\"This is a multi-line\n",
    "string that uses triple quotes.\"\"\""
   ]
  },
  {
   "cell_type": "markdown",
   "metadata": {},
   "source": [
    "## Positive and negative Indexing"
   ]
  },
  {
   "cell_type": "code",
   "execution_count": 69,
   "metadata": {},
   "outputs": [
    {
     "data": {
      "text/plain": [
       "'def'"
      ]
     },
     "execution_count": 69,
     "metadata": {},
     "output_type": "execute_result"
    }
   ],
   "source": [
    "tu[-1]"
   ]
  },
  {
   "cell_type": "markdown",
   "metadata": {},
   "source": [
    "## Slicing "
   ]
  },
  {
   "cell_type": "code",
   "execution_count": 70,
   "metadata": {},
   "outputs": [
    {
     "data": {
      "text/plain": [
       "('abc', 4.56, (2, 3))"
      ]
     },
     "execution_count": 70,
     "metadata": {},
     "output_type": "execute_result"
    }
   ],
   "source": [
    "tu[1:-1]"
   ]
  },
  {
   "cell_type": "markdown",
   "metadata": {},
   "source": [
    "## Copying List"
   ]
  },
  {
   "cell_type": "code",
   "execution_count": 73,
   "metadata": {},
   "outputs": [
    {
     "data": {
      "text/plain": [
       "(23, 'abc', 4.56, (2, 3), 'def')"
      ]
     },
     "execution_count": 73,
     "metadata": {},
     "output_type": "execute_result"
    }
   ],
   "source": [
    "tu2 = tu[:]\n",
    "tu2"
   ]
  },
  {
   "cell_type": "markdown",
   "metadata": {},
   "source": [
    "## The 'in' operator"
   ]
  },
  {
   "cell_type": "code",
   "execution_count": 75,
   "metadata": {},
   "outputs": [
    {
     "data": {
      "text/plain": [
       "False"
      ]
     },
     "execution_count": 75,
     "metadata": {},
     "output_type": "execute_result"
    }
   ],
   "source": [
    "5 in tu"
   ]
  },
  {
   "cell_type": "markdown",
   "metadata": {},
   "source": [
    "## The '+' Operator"
   ]
  },
  {
   "cell_type": "code",
   "execution_count": 76,
   "metadata": {},
   "outputs": [
    {
     "data": {
      "text/plain": [
       "(1, 2, 3, 4, 5, 6)"
      ]
     },
     "execution_count": 76,
     "metadata": {},
     "output_type": "execute_result"
    }
   ],
   "source": [
    "(1,2,3) + (4,5,6)"
   ]
  },
  {
   "cell_type": "code",
   "execution_count": 78,
   "metadata": {},
   "outputs": [
    {
     "data": {
      "text/plain": [
       "'Hello World'"
      ]
     },
     "execution_count": 78,
     "metadata": {},
     "output_type": "execute_result"
    }
   ],
   "source": [
    "\"Hello\" + \" \" + \"World\""
   ]
  },
  {
   "cell_type": "markdown",
   "metadata": {},
   "source": [
    "## The '*' Operator"
   ]
  },
  {
   "cell_type": "code",
   "execution_count": 80,
   "metadata": {},
   "outputs": [
    {
     "data": {
      "text/plain": [
       "(1, 2, 3, 1, 2, 3, 1, 2, 3)"
      ]
     },
     "execution_count": 80,
     "metadata": {},
     "output_type": "execute_result"
    }
   ],
   "source": [
    "(1,2,3) * 3"
   ]
  },
  {
   "cell_type": "markdown",
   "metadata": {},
   "source": [
    "## Operation On List"
   ]
  },
  {
   "cell_type": "code",
   "execution_count": 83,
   "metadata": {},
   "outputs": [
    {
     "data": {
      "text/plain": [
       "[1, 11, 3, 4, 5, 'a']"
      ]
     },
     "execution_count": 83,
     "metadata": {},
     "output_type": "execute_result"
    }
   ],
   "source": [
    "li = [1, 11, 3, 4, 5]   \n",
    "li.append('a') # Our first exposure to method syntax\n",
    "li"
   ]
  },
  {
   "cell_type": "code",
   "execution_count": 84,
   "metadata": {},
   "outputs": [
    {
     "data": {
      "text/plain": [
       "[1, 11, 'i', 3, 4, 5, 'a']"
      ]
     },
     "execution_count": 84,
     "metadata": {},
     "output_type": "execute_result"
    }
   ],
   "source": [
    "li.insert(2, 'i')\n",
    "li"
   ]
  },
  {
   "cell_type": "markdown",
   "metadata": {},
   "source": [
    "## The extend method vs the + operator"
   ]
  },
  {
   "cell_type": "code",
   "execution_count": 87,
   "metadata": {},
   "outputs": [
    {
     "data": {
      "text/plain": [
       "[1, 2, 3, 4, 5, 6, 7, 8]"
      ]
     },
     "execution_count": 87,
     "metadata": {},
     "output_type": "execute_result"
    }
   ],
   "source": [
    "li = [1, 2, 3, 4, 5] \n",
    "li = li + [6,7,8]\n",
    "li"
   ]
  },
  {
   "cell_type": "code",
   "execution_count": 88,
   "metadata": {},
   "outputs": [
    {
     "data": {
      "text/plain": [
       "[1, 2, 3, 4, 5, 6, 7, 8]"
      ]
     },
     "execution_count": 88,
     "metadata": {},
     "output_type": "execute_result"
    }
   ],
   "source": [
    "li = [1, 2, 3, 4, 5] \n",
    "li.extend([6,7,8])\n",
    "li"
   ]
  },
  {
   "cell_type": "markdown",
   "metadata": {},
   "source": [
    "The extend method vs the append"
   ]
  },
  {
   "cell_type": "code",
   "execution_count": 89,
   "metadata": {},
   "outputs": [
    {
     "data": {
      "text/plain": [
       "[1, 2, 3, 4, 5, [6, 7, 8]]"
      ]
     },
     "execution_count": 89,
     "metadata": {},
     "output_type": "execute_result"
    }
   ],
   "source": [
    "li = [1, 2, 3, 4, 5] \n",
    "li.append([6,7,8])\n",
    "li"
   ]
  },
  {
   "cell_type": "markdown",
   "metadata": {},
   "source": [
    "## Other list operations\n"
   ]
  },
  {
   "cell_type": "code",
   "execution_count": 94,
   "metadata": {},
   "outputs": [
    {
     "data": {
      "text/plain": [
       "1"
      ]
     },
     "execution_count": 94,
     "metadata": {},
     "output_type": "execute_result"
    }
   ],
   "source": [
    "li = [4,2,8,3,2,1,2] \n",
    "li.index(2) # index of first occurrence"
   ]
  },
  {
   "cell_type": "code",
   "execution_count": 95,
   "metadata": {},
   "outputs": [
    {
     "data": {
      "text/plain": [
       "3"
      ]
     },
     "execution_count": 95,
     "metadata": {},
     "output_type": "execute_result"
    }
   ],
   "source": [
    "li.count(2) # index of first occurrence"
   ]
  },
  {
   "cell_type": "code",
   "execution_count": 97,
   "metadata": {},
   "outputs": [
    {
     "data": {
      "text/plain": [
       "[4, 8, 3, 1, 2]"
      ]
     },
     "execution_count": 97,
     "metadata": {},
     "output_type": "execute_result"
    }
   ],
   "source": [
    "li.remove(2) #remove first occurrence\n",
    "li"
   ]
  },
  {
   "cell_type": "code",
   "execution_count": 98,
   "metadata": {},
   "outputs": [
    {
     "data": {
      "text/plain": [
       "[2, 1, 3, 8, 4]"
      ]
     },
     "execution_count": 98,
     "metadata": {},
     "output_type": "execute_result"
    }
   ],
   "source": [
    "li.reverse() # reverse the list *in place*\n",
    "li"
   ]
  },
  {
   "cell_type": "code",
   "execution_count": 99,
   "metadata": {},
   "outputs": [
    {
     "data": {
      "text/plain": [
       "[1, 2, 3, 4, 8]"
      ]
     },
     "execution_count": 99,
     "metadata": {},
     "output_type": "execute_result"
    }
   ],
   "source": [
    "li.sort() # sort the list *in place*\n",
    "li"
   ]
  },
  {
   "cell_type": "markdown",
   "metadata": {},
   "source": [
    "## List vs. Tuple"
   ]
  },
  {
   "cell_type": "code",
   "execution_count": 103,
   "metadata": {},
   "outputs": [
    {
     "name": "stdout",
     "output_type": "stream",
     "text": [
      "(4, 2, 8, 3, 2, 1, 2)\n",
      "[4, 2, 8, 3, 2, 1, 2]\n"
     ]
    }
   ],
   "source": [
    "tu = tuple([4,2,8,3,2,1,2])\n",
    "li = list(tu)\n",
    "print(tu)\n",
    "print(li)"
   ]
  },
  {
   "cell_type": "markdown",
   "metadata": {},
   "source": [
    "# Dictionaries"
   ]
  },
  {
   "cell_type": "code",
   "execution_count": 105,
   "metadata": {},
   "outputs": [
    {
     "data": {
      "text/plain": [
       "{'user': 'bozo', 'pswd': 1234}"
      ]
     },
     "execution_count": 105,
     "metadata": {},
     "output_type": "execute_result"
    }
   ],
   "source": [
    "d = {'user':'bozo', 'pswd':1234}\n",
    "d"
   ]
  },
  {
   "cell_type": "code",
   "execution_count": 106,
   "metadata": {},
   "outputs": [
    {
     "name": "stdout",
     "output_type": "stream",
     "text": [
      "bozo\n",
      "1234\n"
     ]
    }
   ],
   "source": [
    "print(d['user'])\n",
    "print(d['pswd'])"
   ]
  },
  {
   "cell_type": "code",
   "execution_count": 112,
   "metadata": {},
   "outputs": [
    {
     "data": {
      "text/plain": [
       "{'user': 'bozo', 'pswd': 1234, 'i': 34}"
      ]
     },
     "execution_count": 112,
     "metadata": {},
     "output_type": "execute_result"
    }
   ],
   "source": [
    "d = {'user':'bozo', 'pswd':1234, 'i':34}\n",
    "d"
   ]
  },
  {
   "cell_type": "code",
   "execution_count": 113,
   "metadata": {},
   "outputs": [
    {
     "data": {
      "text/plain": [
       "{'pswd': 1234, 'i': 34}"
      ]
     },
     "execution_count": 113,
     "metadata": {},
     "output_type": "execute_result"
    }
   ],
   "source": [
    "del d['user'] # delete user\n",
    "d"
   ]
  },
  {
   "cell_type": "code",
   "execution_count": 114,
   "metadata": {},
   "outputs": [
    {
     "data": {
      "text/plain": [
       "{}"
      ]
     },
     "execution_count": 114,
     "metadata": {},
     "output_type": "execute_result"
    }
   ],
   "source": [
    "d.clear()  # remove all elements\n",
    "d"
   ]
  },
  {
   "cell_type": "code",
   "execution_count": 120,
   "metadata": {},
   "outputs": [
    {
     "name": "stdout",
     "output_type": "stream",
     "text": [
      "dict_keys(['user', 'pswd', 'i'])\n",
      "dict_values(['bozo', 1234, 34])\n",
      "dict_items([('user', 'bozo'), ('pswd', 1234), ('i', 34)])\n"
     ]
    }
   ],
   "source": [
    "d = {'user':'bozo', 'pswd':1234, 'i':34}\n",
    "print(d.keys()) # List of keys\n",
    "print(d.values()) # List of values\n",
    "print(d.items()) # List of item tuples."
   ]
  },
  {
   "cell_type": "markdown",
   "metadata": {},
   "source": [
    "# Control of Flow"
   ]
  },
  {
   "cell_type": "code",
   "execution_count": 148,
   "metadata": {},
   "outputs": [
    {
     "name": "stdout",
     "output_type": "stream",
     "text": [
      "X equals something else.\n",
      "This is outside the ‘if’.\n"
     ]
    }
   ],
   "source": [
    "x=5 \n",
    "\n",
    "if x == 3:\n",
    "    print(\"X equals 3.\")\n",
    "elif x == 2:\n",
    "    print(\"X equals 2.\")\n",
    "else:\n",
    "    print(\"X equals something else.\")\n",
    "    \n",
    "print(\"This is outside the ‘if’.\")"
   ]
  },
  {
   "cell_type": "markdown",
   "metadata": {},
   "source": [
    "# While loops"
   ]
  },
  {
   "cell_type": "code",
   "execution_count": 125,
   "metadata": {},
   "outputs": [
    {
     "name": "stdout",
     "output_type": "stream",
     "text": [
      "Hello Geek\n",
      "Hello Geek\n",
      "Hello Geek\n"
     ]
    }
   ],
   "source": [
    "count = 0\n",
    "while (count < 3):\n",
    "    count = count + 1\n",
    "    print(\"Hello Geek\") \n",
    "#else:\n",
    "#    print('Loop ended')"
   ]
  },
  {
   "cell_type": "markdown",
   "metadata": {},
   "source": [
    "# For Loops"
   ]
  },
  {
   "cell_type": "code",
   "execution_count": 126,
   "metadata": {},
   "outputs": [
    {
     "name": "stdout",
     "output_type": "stream",
     "text": [
      "0\n",
      "1\n",
      "2\n",
      "3\n"
     ]
    }
   ],
   "source": [
    "n = 4\n",
    "for i in range(0, n): \n",
    "    print(i) "
   ]
  },
  {
   "cell_type": "code",
   "execution_count": 127,
   "metadata": {},
   "outputs": [
    {
     "name": "stdout",
     "output_type": "stream",
     "text": [
      "0\n",
      "1\n",
      "2\n",
      "3\n"
     ]
    }
   ],
   "source": [
    "n = 4\n",
    "for i in range(n): \n",
    "    print(i)"
   ]
  },
  {
   "cell_type": "code",
   "execution_count": 137,
   "metadata": {},
   "outputs": [
    {
     "name": "stdout",
     "output_type": "stream",
     "text": [
      "a\n",
      "b\n",
      "c\n"
     ]
    }
   ],
   "source": [
    "# Iterating over a list \n",
    "li = [\"a\", \"b\", \"c\"] \n",
    "for i in li: \n",
    "    print(i)"
   ]
  },
  {
   "cell_type": "code",
   "execution_count": 136,
   "metadata": {},
   "outputs": [
    {
     "name": "stdout",
     "output_type": "stream",
     "text": [
      "a\n",
      "b\n",
      "c\n"
     ]
    }
   ],
   "source": [
    "# Iterating over a tuple \n",
    "tu = [\"a\", \"b\", \"c\"] \n",
    "for i in tu: \n",
    "    print(i)"
   ]
  },
  {
   "cell_type": "code",
   "execution_count": 135,
   "metadata": {},
   "outputs": [
    {
     "name": "stdout",
     "output_type": "stream",
     "text": [
      "a 1\n",
      "b 2\n",
      "c 3\n"
     ]
    }
   ],
   "source": [
    "# Iterating over a dictionalry \n",
    "d = {\"a\":1, \"b\":2, \"c\":3}\n",
    "for i in d: \n",
    "    print(i, d[i])"
   ]
  },
  {
   "cell_type": "code",
   "execution_count": 134,
   "metadata": {},
   "outputs": [
    {
     "name": "stdout",
     "output_type": "stream",
     "text": [
      "H\n",
      "e\n",
      "l\n",
      "l\n",
      "o\n",
      " \n",
      "W\n",
      "o\n",
      "r\n",
      "l\n",
      "d\n",
      "!\n"
     ]
    }
   ],
   "source": [
    "# Iterating over a string \n",
    "str = 'Hello World!'\n",
    "for ch in str: \n",
    "    print(ch)"
   ]
  },
  {
   "cell_type": "code",
   "execution_count": 138,
   "metadata": {},
   "outputs": [
    {
     "name": "stdout",
     "output_type": "stream",
     "text": [
      "1 \n",
      "2 2 \n",
      "3 3 3 \n",
      "4 4 4 4 \n"
     ]
    }
   ],
   "source": [
    "for i in range(1, 5): \n",
    "    for j in range(i): \n",
    "         print(i, end=' ') \n",
    "    print()"
   ]
  },
  {
   "cell_type": "markdown",
   "metadata": {},
   "source": [
    "# Functions"
   ]
  },
  {
   "cell_type": "code",
   "execution_count": 151,
   "metadata": {},
   "outputs": [
    {
     "name": "stdout",
     "output_type": "stream",
     "text": [
      "1 2 3 100\n"
     ]
    },
    {
     "data": {
      "text/plain": [
       "600"
      ]
     },
     "execution_count": 151,
     "metadata": {},
     "output_type": "execute_result"
    }
   ],
   "source": [
    "def func(a, b, c=10, d=100):\n",
    "    print(a, b, c, d)\n",
    "    return a * b * c * d\n",
    "    \n",
    "func(1,2,3)"
   ]
  },
  {
   "cell_type": "markdown",
   "metadata": {},
   "source": [
    "# Classes and Objects"
   ]
  },
  {
   "cell_type": "code",
   "execution_count": 166,
   "metadata": {},
   "outputs": [],
   "source": [
    "class atom(object):\n",
    "    def __init__(self,atno,x,y,z):  # Constructor\n",
    "        self.atno = atno\n",
    "        self.position = (x,y,z)\n",
    "    def atom_no(self):              # a class method\n",
    "        return self.atno\n",
    "    def __repr__(self):             # overloads printing like java toString\n",
    "        return '%d %10.4f %10.4f %10.4f' %(self.atno, self.position[0],self.position[1],self.position[2])"
   ]
  },
  {
   "cell_type": "code",
   "execution_count": 167,
   "metadata": {},
   "outputs": [
    {
     "name": "stdout",
     "output_type": "stream",
     "text": [
      "6     0.0000     1.0000     2.0000\n"
     ]
    },
    {
     "data": {
      "text/plain": [
       "6"
      ]
     },
     "execution_count": 167,
     "metadata": {},
     "output_type": "execute_result"
    }
   ],
   "source": [
    "at = atom(6,0.0,1.0,2.0)\n",
    "print(at)\n",
    "at.atom_no()"
   ]
  },
  {
   "cell_type": "code",
   "execution_count": 196,
   "metadata": {},
   "outputs": [],
   "source": [
    "class molecule:\n",
    "    def __init__(self,name='Generic'):\n",
    "        self.name = name\n",
    "        self.atomlist = []\n",
    "        \n",
    "    def addatom(self,atom):\n",
    "        self.atomlist.append(atom)\n",
    "        \n",
    "    def __repr__(self):\n",
    "        str = 'This is a molecule named %s\\n' % self.name\n",
    "        str = str+'It has %d atoms\\n' % len(self.atomlist)\n",
    "        for atom in self.atomlist:\n",
    "            str = str + repr(atom) + '\\n'\n",
    "        return str"
   ]
  },
  {
   "cell_type": "code",
   "execution_count": 197,
   "metadata": {},
   "outputs": [
    {
     "name": "stdout",
     "output_type": "stream",
     "text": [
      "This is a molecule named Water\n",
      "It has 3 atoms\n",
      "8     0.0000     0.0000     0.0000\n",
      "1     0.0000     0.0000     1.0000\n",
      "1     0.0000     1.0000     0.0000\n",
      "\n"
     ]
    }
   ],
   "source": [
    "mol = molecule('Water')\n",
    "at = atom(8,0.,0.,0.)\n",
    "mol.addatom(at)\n",
    "mol.addatom(atom(1,0.,0.,1.))\n",
    "mol.addatom(atom(1,0.,1.,0.))\n",
    "\n",
    "\n",
    "print(mol)"
   ]
  }
 ],
 "metadata": {
  "kernelspec": {
   "display_name": "Python 3",
   "language": "python",
   "name": "python3"
  },
  "language_info": {
   "codemirror_mode": {
    "name": "ipython",
    "version": 3
   },
   "file_extension": ".py",
   "mimetype": "text/x-python",
   "name": "python",
   "nbconvert_exporter": "python",
   "pygments_lexer": "ipython3",
   "version": "3.6.6"
  }
 },
 "nbformat": 4,
 "nbformat_minor": 4
}
